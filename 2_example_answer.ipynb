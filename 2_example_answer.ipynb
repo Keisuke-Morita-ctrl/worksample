 
 1答え
 
THICKNESS = 0.00008
folded_thickness = str(THICKNESS**43)THICKNESS
print("厚さ： {}メートル".format(folded_thickness))

算術演算子**はべき乗を表します。よって、THICKNESS**43はTHICKNESSの43乗となります。
別解として、strは、THICKNESS*43につけるのではなく３行目の部分を
.format.str((folded_thickness))
としても構いません。

2答え
THICKNESS = 0.00008
folded_thickness = THICKNESS**43
print("厚さ： {:.2f}万キロメートル".format.str(folded_thickness/10000000))

1メートルは1万キロメートルの1000万分の1倍です。
そのため、上２行で得られた、メートル換算の値を万キロメートルに変換する際は1000万分の1倍にする必要があります。


3答え

for THICKNESS in range(43) :
  THICKNESS*=2
  folded_thickness=THICKNESS
  
print("厚さ： {}メートル".format(str(folded_thickness)))
  
  
  forループを使っています。また、range関数を使うことで、何回繰り返すかを指定できます。
  
  
  4答え
  
 
import time
start = time.time()
#####
for THICKNESS in range(43) :
  THICKNESS*=2
  folded_thickness=THICKNESS
  print("厚さ： {}メートル".format(folded_thickness))
#####
elapsed_time = time.time() - start
print("time : {}[s]".format(elapsed_time))

と、
import time
start = time.time()
#####
THICKNESS = 0.00008
folded_thickness = str(THICKNESS**43)THICKNESS
print("厚さ： {}メートル".format(folded_thickness))
#####
elapsed_time = time.time() - start
print("time : {}[s]".format(elapsed_time))

の比較を行うと、明らかに算術演算子を用いた方が早いことがわかります。
pythonを使う際にはforループをできるだけ使わないようにしましょう。


５答え

a=[]
for THICKNESS in range(43) :
  THICKNESS*=2
  folded_thickness=THICKNESS
  a.append(folded_thickness)



