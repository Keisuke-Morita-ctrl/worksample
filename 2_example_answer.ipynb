 
 1答え
THICKNESS = 0.00008
folded_thickness = THICKNESS*(2**43)
print("厚さ： {}メートル".format(folded_thickness))

返る答え　　　　　厚さ： 703687441.77664メートル
　
折りたたむということは、紙が2倍の長さになるということです。
ですから、ここでは2を43回、THICKNESSにかけたものが答えとなります。
算術演算子**はべき乗を表します。よって、2*43は2の43乗となります。
THICKNESS**43としないように注意しましょう。


2答え
THICKNESS = 0.00008
folded_thickness = THICKNESS*(2**43)
print("厚さ： {:.2f}万キロメートル".format.str(folded_thickness/10000000))

返る答え　　　　厚さ： 70.37万キロメートル

1メートルは1万キロメートルの1000万分の1倍です。
そのため、紙を43回折ったメートル換算の値を、万キロメートルに変換する際はその値を1000万分の1倍にする必要があります。
1000万分の1倍にする際に、0の数を間違えないようにしましょう。
あるいは、10000000を10**7としても構いません。





3答え
for i in range(43) :
  THICKNESS*=2
  folded_thickness=THICKNESS
  
print("厚さ： {}メートル".format(folded_thickness))
  
返る答え　　　　　厚さ： 703687441.77664メートル
  
 forループを使う際、range関数を使うことで、何回繰り返すかを指定できます。
 この作業でやっていることは上の問題と同じです。
 注意点を上げるとするなら、iの部分にTHICKNESSを入れてはいけません。
そうした場合、が返って84Mという答えが返ってきてしまいます。

  
  4答え
  
 
import time
start = time.time()
#####
for THICKNESS in range(43) :
  THICKNESS*=2
  folded_thickness=THICKNESS
  print("厚さ： {}メートル".format(folded_thickness))
#####
elapsed_time = time.time() - start
print("time : {}[s]".format(elapsed_time))

と、
import time
start = time.time()
#####
THICKNESS = 0.00008
folded_thickness = str(THICKNESS**43)THICKNESS
print("厚さ： {}メートル".format(folded_thickness))
#####
elapsed_time = time.time() - start
print("time : {}[s]".format(elapsed_time))

の比較を行うと、明らかに算術演算子を用いた方が早いことがわかります。
pythonを使う際にはforループをできるだけ使わないようにしましょう。


５答え

thickness_value=[0.00008]
for i in range(43) :
  THICKNESS*=2
  folded_thickness=THICKNESS
  thickness_value.append(folded_thickness)

ここではappend関数を用いて。thickness_valueに値を追加していきます。
最初の値(0.00008)はforループの中では入らないので、
thickness_valueにあらかじめ入れておきます。

一応、44個の値が格納されているか確認してみます。
length(thickness_value)=44
より、きちんと44個の値が格納されているようです。
最後に、ここではforループで使うiに、前に定義した値を入れないようにしましょう。
例えばiの部分にTHICKNESSを入れると
[8e-05, 0, 2, 4, 6, 8,　　・・・](8e-05は0.00008)
このように、全く想定と違う答えが返ってきます。





6答え

"""
(5)の続き

折れ線グラフ　折った紙の長さ
右軸：折った回数
左軸：長さ
"""

import matplotlib.pyplot as plt
%matplotlib inline

line = list(range(44))
height=thickness_value

plt.title("thickness of folded paper")
plt.xlabel("number of folds")
plt.ylabel("thickness(meters)")
plt.plot(line,height) 



最初にmatplotlib.pyplotというグラフを書くためのライブラリをインポートします。
%matplotlib inlineは、jupyter notebookでグラフを作成する際に必要なもので、他のものを使っている場合は入れなくて大丈夫です。
その中にあるモジュールを今回は4種類使っています。基本的なものしか使っていません。
最後の.plotですが、x軸の数値やy軸の数値を入れているのがわかると思います。
ただ、これ以外にも色を指定したり、点線にしたり、太さを変えたりと、多くのことが可能となっており、非常に便利です。
そして、lineとheightはそれぞれx軸、y軸で使う値のことです。
今回のlineの例でいうと、43回紙を折ったので、x軸は43まで表示している、というように。

そして、折れ線グラフを見ればわかる通り最後の一瞬で急激に上昇しています。
このように、べき乗の関数は一瞬でどんどん増えていきます。


７答え


import matplotlib.pyplot as plt
%matplotlib inline

line = list(range(44))
height=thickness_value

plt.title("thickness of folded paper")
plt.xlabel("number of folds")
plt.ylabel("thickness(meters)")
plt.plot(line,height,color='red') 

色が赤になりました。


import matplotlib.pyplot as plt
%matplotlib inline

line = list(range(44))
height=thickness_value

plt.title("thickness of folded paper")
plt.xlabel("number of folds")
plt.ylabel("thickness(meters)")
plt.plot(line,height,linestyle='dashed') 

線が破線になっています。


import matplotlib.pyplot as plt
%matplotlib inline

line = list(range(44))
height=thickness_value

plt.title("thickness of folded paper")
plt.xlabel("number of folds")
plt.ylabel("thickness(meters)")
plt.plot(line,height,linestyle='dashed') 




import matplotlib.pyplot as plt
%matplotlib inline

line = list(range(44))
height=thickness_value

plt.title("thickness of folded paper")
plt.xlabel("number of folds")
plt.ylabel("thickness(meters)")
plt.plot(line,height,linestyle='dashed') 







